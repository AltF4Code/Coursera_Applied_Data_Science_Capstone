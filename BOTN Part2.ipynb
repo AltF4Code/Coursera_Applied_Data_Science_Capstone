{
 "cells": [
  {
   "cell_type": "code",
   "execution_count": 1,
   "metadata": {},
   "outputs": [],
   "source": [
    "#DataFrame Manipulation\n",
    "import numpy as np\n",
    "import pandas as pd\n",
    "\n",
    "#Web Scrapping\n",
    "import requests\n",
    "from bs4 import BeautifulSoup\n",
    "import xml\n",
    "from pandas.io.json import json_normalize"
   ]
  },
  {
   "cell_type": "code",
   "execution_count": 2,
   "metadata": {},
   "outputs": [],
   "source": [
    "\n",
    "from geopy.geocoders import Nominatim\n",
    "import folium"
   ]
  },
  {
   "cell_type": "code",
   "execution_count": 5,
   "metadata": {},
   "outputs": [],
   "source": [
    "geolocator = Nominatim()\n",
    "loc = geolocator.geocode('New Delhi, India')\n",
    "lat = loc.latitude\n",
    "long = loc.longitude"
   ]
  },
  {
   "cell_type": "code",
   "execution_count": 6,
   "metadata": {},
   "outputs": [
    {
     "data": {
      "text/plain": [
       "28.6141793"
      ]
     },
     "execution_count": 6,
     "metadata": {},
     "output_type": "execute_result"
    }
   ],
   "source": [
    "lat"
   ]
  },
  {
   "cell_type": "code",
   "execution_count": 7,
   "metadata": {},
   "outputs": [
    {
     "data": {
      "text/plain": [
       "77.2022662"
      ]
     },
     "execution_count": 7,
     "metadata": {},
     "output_type": "execute_result"
    }
   ],
   "source": [
    "long"
   ]
  },
  {
   "cell_type": "code",
   "execution_count": 8,
   "metadata": {},
   "outputs": [],
   "source": [
    "df_geo = pd.DataFrame({'Spot': ['Red Fort','Qutub Minar',\"Humayun's Tomb\",\"India Gate\"], 'Latitude': [28.6562,28.5245,28.5933,28.6129],\n",
    "                       'Longitude': [77.2410,77.1855,77.2507,77.2295]}, columns = ['Spot','Latitude','Longitude'])"
   ]
  },
  {
   "cell_type": "code",
   "execution_count": 9,
   "metadata": {},
   "outputs": [
    {
     "data": {
      "text/html": [
       "<div>\n",
       "<style scoped>\n",
       "    .dataframe tbody tr th:only-of-type {\n",
       "        vertical-align: middle;\n",
       "    }\n",
       "\n",
       "    .dataframe tbody tr th {\n",
       "        vertical-align: top;\n",
       "    }\n",
       "\n",
       "    .dataframe thead th {\n",
       "        text-align: right;\n",
       "    }\n",
       "</style>\n",
       "<table border=\"1\" class=\"dataframe\">\n",
       "  <thead>\n",
       "    <tr style=\"text-align: right;\">\n",
       "      <th></th>\n",
       "      <th>Spot</th>\n",
       "      <th>Latitude</th>\n",
       "      <th>Longitude</th>\n",
       "    </tr>\n",
       "  </thead>\n",
       "  <tbody>\n",
       "    <tr>\n",
       "      <th>0</th>\n",
       "      <td>Red Fort</td>\n",
       "      <td>28.6562</td>\n",
       "      <td>77.2410</td>\n",
       "    </tr>\n",
       "    <tr>\n",
       "      <th>1</th>\n",
       "      <td>Qutub Minar</td>\n",
       "      <td>28.5245</td>\n",
       "      <td>77.1855</td>\n",
       "    </tr>\n",
       "    <tr>\n",
       "      <th>2</th>\n",
       "      <td>Humayun's Tomb</td>\n",
       "      <td>28.5933</td>\n",
       "      <td>77.2507</td>\n",
       "    </tr>\n",
       "    <tr>\n",
       "      <th>3</th>\n",
       "      <td>India Gate</td>\n",
       "      <td>28.6129</td>\n",
       "      <td>77.2295</td>\n",
       "    </tr>\n",
       "  </tbody>\n",
       "</table>\n",
       "</div>"
      ],
      "text/plain": [
       "             Spot  Latitude  Longitude\n",
       "0        Red Fort   28.6562    77.2410\n",
       "1     Qutub Minar   28.5245    77.1855\n",
       "2  Humayun's Tomb   28.5933    77.2507\n",
       "3      India Gate   28.6129    77.2295"
      ]
     },
     "execution_count": 9,
     "metadata": {},
     "output_type": "execute_result"
    }
   ],
   "source": [
    "df_geo"
   ]
  },
  {
   "cell_type": "code",
   "execution_count": 10,
   "metadata": {},
   "outputs": [
    {
     "data": {
      "text/html": [
       "<div style=\"width:100%;\"><div style=\"position:relative;width:100%;height:0;padding-bottom:60%;\"><iframe src=\"data:text/html;charset=utf-8;base64,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\" style=\"position:absolute;width:100%;height:100%;left:0;top:0;border:none !important;\" allowfullscreen webkitallowfullscreen mozallowfullscreen></iframe></div></div>"
      ],
      "text/plain": [
       "<folium.folium.Map at 0x7fba46fe9be0>"
      ]
     },
     "execution_count": 10,
     "metadata": {},
     "output_type": "execute_result"
    }
   ],
   "source": [
    "map_New_Delhi = folium.Map(location=[lat, long], zoom_start=10)\n",
    "\n",
    "# add markers to map\n",
    "for lat, lng, spt in zip(df_geo['Latitude'], df_geo['Longitude'], df_geo['Spot']):\n",
    "    label = '{}'.format(spt)\n",
    "    label = folium.Popup(label, parse_html=True)\n",
    "    folium.CircleMarker(\n",
    "        [lat, lng],\n",
    "        radius=3,\n",
    "        popup=label,\n",
    "        color='green',\n",
    "        fill=True,\n",
    "        fill_color='#3199cc',\n",
    "        fill_opacity=0.3,\n",
    "        parse_html=False).add_to(map_New_Delhi)  \n",
    "    \n",
    "map_New_Delhi"
   ]
  },
  {
   "cell_type": "code",
   "execution_count": 11,
   "metadata": {},
   "outputs": [
    {
     "name": "stdout",
     "output_type": "stream",
     "text": [
      "Your credentails:\n",
      "CLIENT_ID: HAVUU0HMOGTR3CBAKB3QWT1ZJDDBBOWBC0U0K1JGZTDTXMXA\n",
      "CLIENT_SECRET:XWORBASJJOG0KQAH04NNPZBEGZDSKY2JX5225MPEONUNS2VY\n"
     ]
    }
   ],
   "source": [
    "client_id = \"HAVUU0HMOGTR3CBAKB3QWT1ZJDDBBOWBC0U0K1JGZTDTXMXA\"\n",
    "client_secret = \"XWORBASJJOG0KQAH04NNPZBEGZDSKY2JX5225MPEONUNS2VY\"\n",
    "\n",
    "CLIENT_ID = client_id # your Foursquare ID\n",
    "CLIENT_SECRET = client_secret # your Foursquare Secret\n",
    "VERSION = '20180605' # Foursquare API version\n",
    "\n",
    "print('Your credentails:')\n",
    "print('CLIENT_ID: ' + CLIENT_ID)\n",
    "print('CLIENT_SECRET:' + CLIENT_SECRET)"
   ]
  },
  {
   "cell_type": "code",
   "execution_count": 12,
   "metadata": {},
   "outputs": [
    {
     "name": "stdout",
     "output_type": "stream",
     "text": [
      "Latitude and longitude values of Red Fort are 28.6562, 77.241.\n"
     ]
    }
   ],
   "source": [
    "spot_latitude = df_geo['Latitude'][0] # spot latitude value\n",
    "spot_longitude = df_geo['Longitude'][0] # spot longitude value\n",
    "\n",
    "spot_name = df_geo['Spot'][0] # spot name\n",
    "\n",
    "print('Latitude and longitude values of {} are {}, {}.'.format(spot_name, \n",
    "                                                               spot_latitude, \n",
    "                                                               spot_longitude))"
   ]
  },
  {
   "cell_type": "code",
   "execution_count": 13,
   "metadata": {},
   "outputs": [
    {
     "data": {
      "text/plain": [
       "'https://api.foursquare.com/v2/venues/explore?&client_id=HAVUU0HMOGTR3CBAKB3QWT1ZJDDBBOWBC0U0K1JGZTDTXMXA&client_secret=XWORBASJJOG0KQAH04NNPZBEGZDSKY2JX5225MPEONUNS2VY&v=20180605&ll=28.6562,77.241&radius=500&limit=100'"
      ]
     },
     "execution_count": 13,
     "metadata": {},
     "output_type": "execute_result"
    }
   ],
   "source": [
    "LIMIT = 100\n",
    "radius = 500\n",
    "url = 'https://api.foursquare.com/v2/venues/explore?&client_id={}&client_secret={}&v={}&ll={},{}&radius={}&limit={}'.format(\n",
    "    CLIENT_ID, \n",
    "    CLIENT_SECRET, \n",
    "    VERSION, \n",
    "    spot_latitude, \n",
    "    spot_longitude, \n",
    "    radius, \n",
    "    LIMIT)\n",
    "url # display URL"
   ]
  },
  {
   "cell_type": "code",
   "execution_count": 14,
   "metadata": {},
   "outputs": [
    {
     "data": {
      "text/plain": [
       "{'meta': {'code': 200, 'requestId': '5d04f93623bb8e00388d355a'},\n",
       " 'response': {'headerLocation': 'Jama Masjid',\n",
       "  'headerFullLocation': 'Jama Masjid, Delhi',\n",
       "  'headerLocationGranularity': 'neighborhood',\n",
       "  'totalResults': 4,\n",
       "  'suggestedBounds': {'ne': {'lat': 28.660700004500004,\n",
       "    'lng': 77.24611855937579},\n",
       "   'sw': {'lat': 28.651699995499992, 'lng': 77.23588144062421}},\n",
       "  'groups': [{'type': 'Recommended Places',\n",
       "    'name': 'recommended',\n",
       "    'items': [{'reasons': {'count': 0,\n",
       "       'items': [{'summary': 'This spot is popular',\n",
       "         'type': 'general',\n",
       "         'reasonName': 'globalInteractionReason'}]},\n",
       "      'venue': {'id': '4bf214b83506ef3b1d7abd22',\n",
       "       'name': 'Red Fort | Lal Qila | लाल क़िला | لال قلعہ (Red Fort (Lal Qila))',\n",
       "       'location': {'address': 'Mahatma Gandhi Marg',\n",
       "        'lat': 28.655758930875194,\n",
       "        'lng': 77.2419548034668,\n",
       "        'labeledLatLngs': [{'label': 'display',\n",
       "          'lat': 28.655758930875194,\n",
       "          'lng': 77.2419548034668}],\n",
       "        'distance': 105,\n",
       "        'postalCode': '110006',\n",
       "        'cc': 'IN',\n",
       "        'city': 'New Delhi',\n",
       "        'state': 'Delhi',\n",
       "        'country': 'India',\n",
       "        'formattedAddress': ['Mahatma Gandhi Marg',\n",
       "         'New Delhi 110006',\n",
       "         'Delhi',\n",
       "         'India']},\n",
       "       'categories': [{'id': '4bf58dd8d48988d12d941735',\n",
       "         'name': 'Monument / Landmark',\n",
       "         'pluralName': 'Monuments / Landmarks',\n",
       "         'shortName': 'Landmark',\n",
       "         'icon': {'prefix': 'https://ss3.4sqi.net/img/categories_v2/building/government_monument_',\n",
       "          'suffix': '.png'},\n",
       "         'primary': True}],\n",
       "       'photos': {'count': 0, 'groups': []}},\n",
       "      'referralId': 'e-0-4bf214b83506ef3b1d7abd22-0'},\n",
       "     {'reasons': {'count': 0,\n",
       "       'items': [{'summary': 'This spot is popular',\n",
       "         'type': 'general',\n",
       "         'reasonName': 'globalInteractionReason'}]},\n",
       "      'venue': {'id': '4dc41ce363654a6cdcb4a49e',\n",
       "       'name': 'Red Fort Archaeological Museum | लाल किला पुरातत्व संग्रहालय (Red Fort Archaeological Museum)',\n",
       "       'location': {'address': 'Netaji Subhash Rd New Delhi,',\n",
       "        'crossStreet': 'Delhi 110006',\n",
       "        'lat': 28.655964042955148,\n",
       "        'lng': 77.23765543361783,\n",
       "        'labeledLatLngs': [{'label': 'display',\n",
       "          'lat': 28.655964042955148,\n",
       "          'lng': 77.23765543361783}],\n",
       "        'distance': 327,\n",
       "        'postalCode': '110006',\n",
       "        'cc': 'IN',\n",
       "        'city': 'New Delhi',\n",
       "        'state': 'Delhi',\n",
       "        'country': 'India',\n",
       "        'formattedAddress': ['Netaji Subhash Rd New Delhi, (Delhi 110006)',\n",
       "         'New Delhi 110006',\n",
       "         'Delhi',\n",
       "         'India']},\n",
       "       'categories': [{'id': '4bf58dd8d48988d181941735',\n",
       "         'name': 'Museum',\n",
       "         'pluralName': 'Museums',\n",
       "         'shortName': 'Museum',\n",
       "         'icon': {'prefix': 'https://ss3.4sqi.net/img/categories_v2/arts_entertainment/museum_',\n",
       "          'suffix': '.png'},\n",
       "         'primary': True}],\n",
       "       'photos': {'count': 0, 'groups': []}},\n",
       "      'referralId': 'e-0-4dc41ce363654a6cdcb4a49e-1'},\n",
       "     {'reasons': {'count': 0,\n",
       "       'items': [{'summary': 'This spot is popular',\n",
       "         'type': 'general',\n",
       "         'reasonName': 'globalInteractionReason'}]},\n",
       "      'venue': {'id': '59a0d70a47f8765b43ea242d',\n",
       "       'name': 'Lal Qila Metro Station',\n",
       "       'location': {'lat': 28.656691,\n",
       "        'lng': 77.236999,\n",
       "        'labeledLatLngs': [{'label': 'display',\n",
       "          'lat': 28.656691,\n",
       "          'lng': 77.236999}],\n",
       "        'distance': 394,\n",
       "        'postalCode': '110006',\n",
       "        'cc': 'IN',\n",
       "        'city': 'New Delhi',\n",
       "        'state': 'Delhi',\n",
       "        'country': 'India',\n",
       "        'formattedAddress': ['New Delhi 110006', 'Delhi', 'India']},\n",
       "       'categories': [{'id': '4bf58dd8d48988d1fd931735',\n",
       "         'name': 'Metro Station',\n",
       "         'pluralName': 'Metro Stations',\n",
       "         'shortName': 'Metro',\n",
       "         'icon': {'prefix': 'https://ss3.4sqi.net/img/categories_v2/travel/subway_',\n",
       "          'suffix': '.png'},\n",
       "         'primary': True}],\n",
       "       'photos': {'count': 0, 'groups': []}},\n",
       "      'referralId': 'e-0-59a0d70a47f8765b43ea242d-2'},\n",
       "     {'reasons': {'count': 0,\n",
       "       'items': [{'summary': 'This spot is popular',\n",
       "         'type': 'general',\n",
       "         'reasonName': 'globalInteractionReason'}]},\n",
       "      'venue': {'id': '4f578c22e4b084174b7fcb86',\n",
       "       'name': 'Azad Hind Bus Stop',\n",
       "       'location': {'address': '1481 Chandni Chowk Rd.',\n",
       "        'lat': 28.656134640921906,\n",
       "        'lng': 77.23596025826508,\n",
       "        'labeledLatLngs': [{'label': 'display',\n",
       "          'lat': 28.656134640921906,\n",
       "          'lng': 77.23596025826508}],\n",
       "        'distance': 492,\n",
       "        'postalCode': '110006',\n",
       "        'cc': 'IN',\n",
       "        'city': 'New Delhi',\n",
       "        'state': 'Delhi',\n",
       "        'country': 'India',\n",
       "        'formattedAddress': ['1481 Chandni Chowk Rd.',\n",
       "         'New Delhi 110006',\n",
       "         'Delhi',\n",
       "         'India']},\n",
       "       'categories': [{'id': '4bf58dd8d48988d1fe931735',\n",
       "         'name': 'Bus Station',\n",
       "         'pluralName': 'Bus Stations',\n",
       "         'shortName': 'Bus Station',\n",
       "         'icon': {'prefix': 'https://ss3.4sqi.net/img/categories_v2/travel/busstation_',\n",
       "          'suffix': '.png'},\n",
       "         'primary': True}],\n",
       "       'photos': {'count': 0, 'groups': []}},\n",
       "      'referralId': 'e-0-4f578c22e4b084174b7fcb86-3'}]}]}}"
      ]
     },
     "execution_count": 14,
     "metadata": {},
     "output_type": "execute_result"
    }
   ],
   "source": [
    "results = requests.get(url).json()\n",
    "results"
   ]
  },
  {
   "cell_type": "code",
   "execution_count": 15,
   "metadata": {},
   "outputs": [],
   "source": [
    "def get_category_type(row):\n",
    "    try:\n",
    "        categories_list = row['categories']\n",
    "    except:\n",
    "        categories_list = row['venue.categories']\n",
    "        \n",
    "    if len(categories_list) == 0:\n",
    "        return None\n",
    "    else:\n",
    "        return categories_list[0]['name']"
   ]
  },
  {
   "cell_type": "code",
   "execution_count": 16,
   "metadata": {},
   "outputs": [
    {
     "data": {
      "text/html": [
       "<div>\n",
       "<style scoped>\n",
       "    .dataframe tbody tr th:only-of-type {\n",
       "        vertical-align: middle;\n",
       "    }\n",
       "\n",
       "    .dataframe tbody tr th {\n",
       "        vertical-align: top;\n",
       "    }\n",
       "\n",
       "    .dataframe thead th {\n",
       "        text-align: right;\n",
       "    }\n",
       "</style>\n",
       "<table border=\"1\" class=\"dataframe\">\n",
       "  <thead>\n",
       "    <tr style=\"text-align: right;\">\n",
       "      <th></th>\n",
       "      <th>name</th>\n",
       "      <th>categories</th>\n",
       "      <th>lat</th>\n",
       "      <th>lng</th>\n",
       "    </tr>\n",
       "  </thead>\n",
       "  <tbody>\n",
       "    <tr>\n",
       "      <th>0</th>\n",
       "      <td>Red Fort | Lal Qila | लाल क़िला | لال قلعہ (Re...</td>\n",
       "      <td>Monument / Landmark</td>\n",
       "      <td>28.655759</td>\n",
       "      <td>77.241955</td>\n",
       "    </tr>\n",
       "    <tr>\n",
       "      <th>1</th>\n",
       "      <td>Red Fort Archaeological Museum | लाल किला पुरा...</td>\n",
       "      <td>Museum</td>\n",
       "      <td>28.655964</td>\n",
       "      <td>77.237655</td>\n",
       "    </tr>\n",
       "    <tr>\n",
       "      <th>2</th>\n",
       "      <td>Lal Qila Metro Station</td>\n",
       "      <td>Metro Station</td>\n",
       "      <td>28.656691</td>\n",
       "      <td>77.236999</td>\n",
       "    </tr>\n",
       "    <tr>\n",
       "      <th>3</th>\n",
       "      <td>Azad Hind Bus Stop</td>\n",
       "      <td>Bus Station</td>\n",
       "      <td>28.656135</td>\n",
       "      <td>77.235960</td>\n",
       "    </tr>\n",
       "  </tbody>\n",
       "</table>\n",
       "</div>"
      ],
      "text/plain": [
       "                                                name           categories  \\\n",
       "0  Red Fort | Lal Qila | लाल क़िला | لال قلعہ (Re...  Monument / Landmark   \n",
       "1  Red Fort Archaeological Museum | लाल किला पुरा...               Museum   \n",
       "2                             Lal Qila Metro Station        Metro Station   \n",
       "3                                 Azad Hind Bus Stop          Bus Station   \n",
       "\n",
       "         lat        lng  \n",
       "0  28.655759  77.241955  \n",
       "1  28.655964  77.237655  \n",
       "2  28.656691  77.236999  \n",
       "3  28.656135  77.235960  "
      ]
     },
     "execution_count": 16,
     "metadata": {},
     "output_type": "execute_result"
    }
   ],
   "source": [
    "venues = results['response']['groups'][0]['items']\n",
    "    \n",
    "nearby_venues = json_normalize(venues) # flatten JSON\n",
    "\n",
    "# filter columns\n",
    "filtered_columns = ['venue.name', 'venue.categories', 'venue.location.lat', 'venue.location.lng']\n",
    "nearby_venues =nearby_venues.loc[:, filtered_columns]\n",
    "\n",
    "# filter the category for each row\n",
    "nearby_venues['venue.categories'] = nearby_venues.apply(get_category_type, axis=1)\n",
    "\n",
    "# clean columns\n",
    "nearby_venues.columns = [col.split(\".\")[-1] for col in nearby_venues.columns]\n",
    "\n",
    "nearby_venues.head()"
   ]
  },
  {
   "cell_type": "code",
   "execution_count": 17,
   "metadata": {},
   "outputs": [
    {
     "name": "stdout",
     "output_type": "stream",
     "text": [
      "4 venues were returned by Foursquare.\n"
     ]
    }
   ],
   "source": [
    "\n",
    "print('{} venues were returned by Foursquare.'.format(nearby_venues.shape[0]))"
   ]
  },
  {
   "cell_type": "code",
   "execution_count": 18,
   "metadata": {},
   "outputs": [],
   "source": [
    "def getNearbyVenues(names, latitudes, longitudes, radius=500):\n",
    "    \n",
    "    venues_list=[]\n",
    "    for name, lat, lng in zip(names, latitudes, longitudes):\n",
    "        print(name)\n",
    "            \n",
    "        # create the API request URL\n",
    "        url = 'https://api.foursquare.com/v2/venues/explore?&client_id={}&client_secret={}&v={}&ll={},{}&radius={}&limit={}'.format(\n",
    "            CLIENT_ID, \n",
    "            CLIENT_SECRET, \n",
    "            VERSION, \n",
    "            lat, \n",
    "            lng, \n",
    "            radius, \n",
    "            LIMIT)\n",
    "            \n",
    "        # make the GET request\n",
    "        results = requests.get(url).json()[\"response\"]['groups'][0]['items']\n",
    "        \n",
    "        # return only relevant information for each nearby venue\n",
    "        venues_list.append([(\n",
    "            name, \n",
    "            lat, \n",
    "            lng, \n",
    "            v['venue']['name'], \n",
    "            v['venue']['location']['lat'], \n",
    "            v['venue']['location']['lng'],  \n",
    "            v['venue']['categories'][0]['name']) for v in results])\n",
    "\n",
    "    nearby_venues = pd.DataFrame([item for venue_list in venues_list for item in venue_list])\n",
    "    nearby_venues.columns = ['Neighborhood', \n",
    "                  'Neighborhood Latitude', \n",
    "                  'Neighborhood Longitude', \n",
    "                  'Venue', \n",
    "                  'Venue Latitude', \n",
    "                  'Venue Longitude', \n",
    "                  'Venue Category']\n",
    "    \n",
    "    return(nearby_venues)"
   ]
  },
  {
   "cell_type": "code",
   "execution_count": 19,
   "metadata": {},
   "outputs": [
    {
     "name": "stdout",
     "output_type": "stream",
     "text": [
      "Red Fort\n",
      "Qutub Minar\n",
      "Humayun's Tomb\n",
      "India Gate\n"
     ]
    }
   ],
   "source": [
    "scar_venues = getNearbyVenues(names=df_geo['Spot'],\n",
    "                                   latitudes=df_geo['Latitude'],\n",
    "                                   longitudes=df_geo['Longitude']\n",
    "                                  )"
   ]
  },
  {
   "cell_type": "code",
   "execution_count": null,
   "metadata": {},
   "outputs": [],
   "source": []
  }
 ],
 "metadata": {
  "kernelspec": {
   "display_name": "Python 3",
   "language": "python",
   "name": "python3"
  },
  "language_info": {
   "codemirror_mode": {
    "name": "ipython",
    "version": 3
   },
   "file_extension": ".py",
   "mimetype": "text/x-python",
   "name": "python",
   "nbconvert_exporter": "python",
   "pygments_lexer": "ipython3",
   "version": "3.6.8"
  }
 },
 "nbformat": 4,
 "nbformat_minor": 2
}
